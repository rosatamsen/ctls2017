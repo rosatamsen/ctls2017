{
 "cells": [
  {
   "cell_type": "markdown",
   "metadata": {},
   "source": [
    "# Python - Numpy and Arrays\n",
    "\n",
    "### Objectives:\n",
    "- Explain what a library is, and what libraries are used for.\n",
    "- Import a Python library and use the functions it contains.\n",
    "- Read tabular data from a file into a program.\n",
    "- Perform operations on arrays of data.\n",
    "\n",
    "---\n",
    "Words are useful, but what's more useful are the sentences and stories we build with them.\n",
    "Similarly, while a lot of powerful, general tools are built into languages like Python,\n",
    "specialized tools built up from these basic units live in [libraries](python_reference.md#library) \n",
    "that can be called upon when needed.\n",
    "\n",
    "In order to load our inflammation data, we need to [import](python_reference.md#import) (that is, access)\n",
    "a library called [NumPy](http://docs.scipy.org/doc/numpy/ \"NumPy Documentation\").\n",
    "In general, you should use this library if you want to do fancy things with numbers,\n",
    "especially if you have matrices or arrays. We can import NumPy using:"
   ]
  },
  {
   "cell_type": "code",
   "execution_count": 1,
   "metadata": {
    "collapsed": true
   },
   "outputs": [],
   "source": [
    "import numpy"
   ]
  },
  {
   "cell_type": "markdown",
   "metadata": {},
   "source": [
    "Importing a library is like getting a piece of lab equipment out of a storage locker and setting it up on the bench.\n",
    "Libraries provide additional functionality to the basic Python package,\n",
    "much like a new piece of equipment adds functionality to a lab space. Just like in the lab, importing too many libraries\n",
    "can sometimes complicate and slow down your programs - so we only import what we need for each program.\n",
    "\n",
    "Once you've imported the NumPy library, we can ask the library to read our data file for us.\n",
    "\n",
    "> ### Copying the data file\n",
    ">\n",
    "> Before reading the data file, we need a local copy of the file.\n",
    "> We can access many linux commands using the **system** function of the **os** library.\n",
    "> Here, we will use the **wget** command."
   ]
  },
  {
   "cell_type": "code",
   "execution_count": 2,
   "metadata": {
    "collapsed": true
   },
   "outputs": [],
   "source": [
    "import os\n",
    "os.system('wget https://raw.githubusercontent.com/swcarpentry/python-novice-inflammation/gh-pages/data/python-novice-inflammation-data.zip')\n",
    "os.system('unzip python-novice-inflammation-data.zip')\n",
    "os.chdir('data')"
   ]
  },
  {
   "cell_type": "markdown",
   "metadata": {},
   "source": [
    "Ok, *now* we can use NumPy to read the data file."
   ]
  },
  {
   "cell_type": "code",
   "execution_count": 3,
   "metadata": {
    "collapsed": false
   },
   "outputs": [
    {
     "data": {
      "text/plain": [
       "array([[ 0.,  0.,  1., ...,  3.,  0.,  0.],\n",
       "       [ 0.,  1.,  2., ...,  1.,  0.,  1.],\n",
       "       [ 0.,  1.,  1., ...,  2.,  1.,  1.],\n",
       "       ..., \n",
       "       [ 0.,  1.,  1., ...,  1.,  1.,  1.],\n",
       "       [ 0.,  0.,  0., ...,  0.,  2.,  0.],\n",
       "       [ 0.,  0.,  1., ...,  1.,  1.,  0.]])"
      ]
     },
     "execution_count": 3,
     "metadata": {},
     "output_type": "execute_result"
    }
   ],
   "source": [
    "numpy.loadtxt(fname='inflammation-01.csv', delimiter=',')"
   ]
  },
  {
   "cell_type": "markdown",
   "metadata": {},
   "source": [
    "The expression `numpy.loadtxt(...)` is a [function call](python_reference.md#function)\n",
    "that asks Python to run the [function](python_reference.md#function) `loadtxt` which belongs to the `numpy` library.\n",
    "This dotted notation is used everywhere in Python\n",
    "to refer to the parts of things as `thing.component`.\n",
    "\n",
    "`numpy.loadtxt` has two [parameters](python_reference.md#parameter):\n",
    "the name of the file we want to read,\n",
    "and the [delimiter](python_reference.md#delimiter) that separates values on a line.\n",
    "These both need to be character [strings](python_reference.md#string),\n",
    "so we put them in quotes.\n",
    "\n",
    "Since we haven't told it to do anything else with the function's output,\n",
    "the notebook displays it.\n",
    "In this case, that output is the data we just loaded.\n",
    "By default, only a few rows and columns are shown\n",
    "(with `...` to omit elements when displaying big arrays).\n",
    "To save space, Python displays numbers as `1.` instead of `1.0`\n",
    "when there's nothing interesting after the decimal point.\n",
    "\n",
    "Our call to `numpy.loadtxt` read our file, but didn't save the data in memory.\n",
    "To do that, we need to assign the array to a variable. \n",
    "Just as we can assign a single value to a variable, we can also assign an array of values\n",
    "to a variable using the same syntax.  Let's re-run `numpy.loadtxt` and save its result:"
   ]
  },
  {
   "cell_type": "code",
   "execution_count": 4,
   "metadata": {
    "collapsed": true
   },
   "outputs": [],
   "source": [
    "data = numpy.loadtxt(fname='inflammation-01.csv', delimiter=',')"
   ]
  },
  {
   "cell_type": "markdown",
   "metadata": {},
   "source": [
    "This statement doesn't produce any output because assignment doesn't display anything.\n",
    "If we want to check that our data has been loaded,\n",
    "we can print the variable's value:"
   ]
  },
  {
   "cell_type": "code",
   "execution_count": 5,
   "metadata": {
    "collapsed": false
   },
   "outputs": [
    {
     "name": "stdout",
     "output_type": "stream",
     "text": [
      "[[ 0.  0.  1. ...,  3.  0.  0.]\n",
      " [ 0.  1.  2. ...,  1.  0.  1.]\n",
      " [ 0.  1.  1. ...,  2.  1.  1.]\n",
      " ..., \n",
      " [ 0.  1.  1. ...,  1.  1.  1.]\n",
      " [ 0.  0.  0. ...,  0.  2.  0.]\n",
      " [ 0.  0.  1. ...,  1.  1.  0.]]\n"
     ]
    }
   ],
   "source": [
    "print(data)"
   ]
  },
  {
   "cell_type": "markdown",
   "metadata": {},
   "source": [
    "Now that our data is in memory, we can start doing things with it.\n",
    "First, let's ask what [type](python_reference.md#type) of thing `data` refers to:"
   ]
  },
  {
   "cell_type": "code",
   "execution_count": 6,
   "metadata": {
    "collapsed": false
   },
   "outputs": [
    {
     "name": "stdout",
     "output_type": "stream",
     "text": [
      "<class 'numpy.ndarray'>\n"
     ]
    }
   ],
   "source": [
    "print(type(data))"
   ]
  },
  {
   "cell_type": "markdown",
   "metadata": {},
   "source": [
    "The output tells us that `data` currently refers to\n",
    "an N-dimensional array created by the NumPy library.\n",
    "These data correspond to arthritis patients' inflammation.\n",
    "The rows are the individual patients and the columns\n",
    "are their daily inflammation measurements.\n",
    "\n",
    "> ### Data Type\n",
    ">\n",
    "> A Numpy array contains one or more elements\n",
    "> of the same type. `type` will only tell you that\n",
    "> a variable is a NumPy array.\n",
    "> We can also find out the type\n",
    "> of the data contained in the NumPy array."
   ]
  },
  {
   "cell_type": "code",
   "execution_count": 7,
   "metadata": {
    "collapsed": false
   },
   "outputs": [
    {
     "name": "stdout",
     "output_type": "stream",
     "text": [
      "float64\n"
     ]
    }
   ],
   "source": [
    "print(data.dtype)"
   ]
  },
  {
   "cell_type": "markdown",
   "metadata": {},
   "source": [
    "> This tells us that the NumPy array's elements are\n",
    "> **floating-point numbers**.\n",
    "\n",
    "We can see what the array's [shape](python_reference.md#shape) is like this:"
   ]
  },
  {
   "cell_type": "code",
   "execution_count": 8,
   "metadata": {
    "collapsed": false
   },
   "outputs": [
    {
     "name": "stdout",
     "output_type": "stream",
     "text": [
      "(60, 40)\n"
     ]
    }
   ],
   "source": [
    "print(data.shape)"
   ]
  },
  {
   "cell_type": "markdown",
   "metadata": {},
   "source": [
    "This tells us that `data` has 60 rows and 40 columns. When we created the\n",
    "variable `data` to store our arthritis data, we didn't just create the array, we also\n",
    "created information about the array, called [members](python_reference.md#member) or\n",
    "attributes. This extra information describes `data` in\n",
    "the same way an adjective describes a noun.\n",
    "`data.shape` is an attribute  of `data` which describes the dimensions of `data`.\n",
    "We use the same dotted notation for the attributes of variables\n",
    "that we use for the functions in libraries\n",
    "because they have the same part-and-whole relationship.\n",
    "\n",
    "If we want to get a single number from the array,\n",
    "we must provide an [index](python_reference.md#index) in square brackets,\n",
    "just as we do in math:"
   ]
  },
  {
   "cell_type": "code",
   "execution_count": 10,
   "metadata": {
    "collapsed": false
   },
   "outputs": [
    {
     "name": "stdout",
     "output_type": "stream",
     "text": [
      "first value in data: 0.0\n",
      "middle value in data: 13.0\n"
     ]
    }
   ],
   "source": [
    "print('first value in data:', data[0, 0])\n",
    "print('middle value in data:', data[30, 20])"
   ]
  },
  {
   "cell_type": "markdown",
   "metadata": {},
   "source": [
    "The expression `data[30, 20]` may not surprise you, but `data[0, 0]` might.\n",
    "Programming languages like Fortran, MATLAB and R start counting at 1,\n",
    "because that's what human beings have done for thousands of years.\n",
    "Languages in the C family (including C++, Java, Perl, and Python) count from 0\n",
    "because it represents an offset from the first value in the array (the second\n",
    "value is offset by one index from the first value). This is closer to the way\n",
    "that computers represent arrays.\n",
    "\n",
    "As a result, if we have an M×N array in Python,\n",
    "its indices go from 0 to M-1 on the first axis\n",
    "and 0 to N-1 on the second. It takes a bit of getting used to,\n",
    "but one way to remember the rule is that\n",
    "the index is how many steps we have to take from the start to get the item we want.\n",
    "\n",
    "> ### In the Corner\n",
    ">\n",
    "> What may also surprise you is that when Python displays an array,\n",
    "> it shows the element with index `[0, 0]` in the upper left corner\n",
    "> rather than the lower left.\n",
    "> This is consistent with the way mathematicians draw matrices,\n",
    "> but different from the Cartesian coordinates.\n",
    "> The indices are (row, column) instead of (column, row) for the same reason,\n",
    "> which can be confusing when plotting data.\n",
    "\n",
    "An index like `[30, 20]` selects a single element of an array,\n",
    "but we can select whole sections as well.\n",
    "For example,\n",
    "we can select the first ten days (columns) of values\n",
    "for the first four patients (rows) like this:"
   ]
  },
  {
   "cell_type": "code",
   "execution_count": 11,
   "metadata": {
    "collapsed": false
   },
   "outputs": [
    {
     "name": "stdout",
     "output_type": "stream",
     "text": [
      "[[ 0.  0.  1.  3.  1.  2.  4.  7.  8.  3.]\n",
      " [ 0.  1.  2.  1.  2.  1.  3.  2.  2.  6.]\n",
      " [ 0.  1.  1.  3.  3.  2.  6.  2.  5.  9.]\n",
      " [ 0.  0.  2.  0.  4.  2.  2.  1.  6.  7.]]\n"
     ]
    }
   ],
   "source": [
    "print(data[0:4, 0:10])"
   ]
  },
  {
   "cell_type": "markdown",
   "metadata": {},
   "source": [
    "The [slice](python_reference.md#slice) `0:4` means,\n",
    "\"Start at index 0 and go up to, but not including, index 4.\"\n",
    "Again, the up-to-but-not-including takes a bit of getting used to,\n",
    "but the rule is that the difference between the upper and lower bounds is the number of values in the slice.\n",
    "\n",
    "We don't have to start slices at 0:"
   ]
  },
  {
   "cell_type": "code",
   "execution_count": 12,
   "metadata": {
    "collapsed": false
   },
   "outputs": [
    {
     "name": "stdout",
     "output_type": "stream",
     "text": [
      "[[ 0.  0.  1.  2.  2.  4.  2.  1.  6.  4.]\n",
      " [ 0.  0.  2.  2.  4.  2.  2.  5.  5.  8.]\n",
      " [ 0.  0.  1.  2.  3.  1.  2.  3.  5.  3.]\n",
      " [ 0.  0.  0.  3.  1.  5.  6.  5.  5.  8.]\n",
      " [ 0.  1.  1.  2.  1.  3.  5.  3.  5.  8.]]\n"
     ]
    }
   ],
   "source": [
    "print(data[5:10, 0:10])"
   ]
  },
  {
   "cell_type": "markdown",
   "metadata": {},
   "source": [
    "We also don't have to include the upper and lower bound on the slice.\n",
    "If we don't include the lower bound, Python uses 0 by default;\n",
    "if we don't include the upper, the slice runs to the end of the axis,\n",
    "and if we don't include either (i.e., if we just use ':' on its own),\n",
    "the slice includes everything:"
   ]
  },
  {
   "cell_type": "code",
   "execution_count": 13,
   "metadata": {
    "collapsed": false
   },
   "outputs": [
    {
     "name": "stdout",
     "output_type": "stream",
     "text": [
      "small is:\n",
      "[[ 2.  3.  0.  0.]\n",
      " [ 1.  1.  0.  1.]\n",
      " [ 2.  2.  1.  1.]]\n"
     ]
    }
   ],
   "source": [
    "small = data[:3, 36:]\n",
    "print('small is:')\n",
    "print(small)"
   ]
  },
  {
   "cell_type": "markdown",
   "metadata": {},
   "source": [
    "> ## Exercise - Slicing Strings\n",
    ">\n",
    "> We can take slices of character strings as well:"
   ]
  },
  {
   "cell_type": "code",
   "execution_count": 14,
   "metadata": {
    "collapsed": false
   },
   "outputs": [
    {
     "name": "stdout",
     "output_type": "stream",
     "text": [
      "first three characters: oxy\n",
      "last three characters: gen\n"
     ]
    }
   ],
   "source": [
    "element = 'oxygen'\n",
    "print('first three characters:', element[0:3])\n",
    "print('last three characters:', element[3:6])"
   ]
  },
  {
   "cell_type": "markdown",
   "metadata": {},
   "source": [
    "> What is the value of `element[:4]`?\n",
    "> What about `element[4:]`?\n",
    "> Or `element[:]`?"
   ]
  },
  {
   "cell_type": "markdown",
   "metadata": {},
   "source": [
    "## Solution"
   ]
  },
  {
   "cell_type": "code",
   "execution_count": 19,
   "metadata": {
    "collapsed": false
   },
   "outputs": [
    {
     "name": "stdout",
     "output_type": "stream",
     "text": [
      "oxyg\n",
      "en\n",
      "oxygen\n"
     ]
    }
   ],
   "source": [
    "print(element[:4])\n",
    "print(element[4:])\n",
    "print(element[:])"
   ]
  },
  {
   "cell_type": "markdown",
   "metadata": {},
   "source": [
    "> What is `element[-1]`?\n",
    "> What is `element[-2]`?"
   ]
  },
  {
   "cell_type": "markdown",
   "metadata": {},
   "source": [
    "## Solution"
   ]
  },
  {
   "cell_type": "code",
   "execution_count": 20,
   "metadata": {
    "collapsed": false
   },
   "outputs": [
    {
     "name": "stdout",
     "output_type": "stream",
     "text": [
      "n\n",
      "e\n"
     ]
    }
   ],
   "source": [
    "print(element[-1])\n",
    "print(element[-2])"
   ]
  },
  {
   "cell_type": "markdown",
   "metadata": {},
   "source": [
    "> Given those answers, explain what `element[1:-1]` does."
   ]
  },
  {
   "cell_type": "code",
   "execution_count": 22,
   "metadata": {
    "collapsed": false
   },
   "outputs": [
    {
     "name": "stdout",
     "output_type": "stream",
     "text": [
      "xyge\n"
     ]
    }
   ],
   "source": [
    "print(element[1:-1])"
   ]
  },
  {
   "cell_type": "markdown",
   "metadata": {},
   "source": [
    "## Solution"
   ]
  },
  {
   "cell_type": "markdown",
   "metadata": {},
   "source": [
    "> Creates a substring from index 1 up to (not including) the final index,\n",
    "> effectively removing the first and last letters from 'oxygen'"
   ]
  },
  {
   "cell_type": "markdown",
   "metadata": {},
   "source": [
    "Arrays also know how to perform common mathematical operations on their values.\n",
    "The simplest operations with data are arithmetic: add, subtract, multiply, and divide.\n",
    "When you do such operations on arrays, the operation is done on each individual element of the array. Thus:"
   ]
  },
  {
   "cell_type": "code",
   "execution_count": 23,
   "metadata": {
    "collapsed": true
   },
   "outputs": [],
   "source": [
    "doubledata = data * 2.0"
   ]
  },
  {
   "cell_type": "markdown",
   "metadata": {},
   "source": [
    "will create a new array `doubledata`\n",
    "whose elements have the value of two times the value of the corresponding elements in `data`:"
   ]
  },
  {
   "cell_type": "code",
   "execution_count": 24,
   "metadata": {
    "collapsed": false
   },
   "outputs": [
    {
     "name": "stdout",
     "output_type": "stream",
     "text": [
      "original:\n",
      "[[ 2.  3.  0.  0.]\n",
      " [ 1.  1.  0.  1.]\n",
      " [ 2.  2.  1.  1.]]\n",
      "doubledata:\n",
      "[[ 4.  6.  0.  0.]\n",
      " [ 2.  2.  0.  2.]\n",
      " [ 4.  4.  2.  2.]]\n"
     ]
    }
   ],
   "source": [
    "print('original:')\n",
    "print(data[:3, 36:])\n",
    "print('doubledata:')\n",
    "print(doubledata[:3, 36:])"
   ]
  },
  {
   "cell_type": "markdown",
   "metadata": {},
   "source": [
    "If, instead of taking an array and doing arithmetic with a single value (as above)\n",
    "you did the arithmetic operation with another array of the same shape,\n",
    "the operation will be done on corresponding elements of the two arrays.\n",
    "Thus:"
   ]
  },
  {
   "cell_type": "code",
   "execution_count": 25,
   "metadata": {
    "collapsed": true
   },
   "outputs": [],
   "source": [
    "tripledata = doubledata + data"
   ]
  },
  {
   "cell_type": "markdown",
   "metadata": {},
   "source": [
    "will give you an array where `tripledata[0,0]` will equal `doubledata[0,0]` plus `data[0,0]`,\n",
    "and so on for all other elements of the arrays."
   ]
  },
  {
   "cell_type": "code",
   "execution_count": 26,
   "metadata": {
    "collapsed": false
   },
   "outputs": [
    {
     "name": "stdout",
     "output_type": "stream",
     "text": [
      "tripledata:\n",
      "[[ 6.  9.  0.  0.]\n",
      " [ 3.  3.  0.  3.]\n",
      " [ 6.  6.  3.  3.]]\n"
     ]
    }
   ],
   "source": [
    "print('tripledata:')\n",
    "print(tripledata[:3, 36:])"
   ]
  },
  {
   "cell_type": "markdown",
   "metadata": {},
   "source": [
    "> ## Exercise\n",
    "> \n",
    "> Create an array called `datasquared` which is the same size as `data` and every value in `datasquared` is the\n",
    "> square of the corresponding value in `data`.  Print a few values of both arrays to verify the contents of `datasquared`"
   ]
  },
  {
   "cell_type": "markdown",
   "metadata": {},
   "source": [
    "## Solution"
   ]
  },
  {
   "cell_type": "code",
   "execution_count": 27,
   "metadata": {
    "collapsed": false
   },
   "outputs": [
    {
     "name": "stdout",
     "output_type": "stream",
     "text": [
      "[[ 0.  0.  1. ...,  9.  0.  0.]\n",
      " [ 0.  1.  4. ...,  1.  0.  1.]\n",
      " [ 0.  1.  1. ...,  4.  1.  1.]\n",
      " ..., \n",
      " [ 0.  1.  1. ...,  1.  1.  1.]\n",
      " [ 0.  0.  0. ...,  0.  4.  0.]\n",
      " [ 0.  0.  1. ...,  1.  1.  0.]]\n"
     ]
    }
   ],
   "source": [
    "datasquared = data * data\n",
    "print( datasquared )"
   ]
  },
  {
   "cell_type": "markdown",
   "metadata": {
    "collapsed": true,
    "deletable": true,
    "editable": true
   },
   "source": [
    "## Keypoints:\n",
    "- Import a library into a program using `import libraryname`.\n",
    "- Use the `numpy` library to work with arrays in Python.\n",
    "- The expression `array.shape` gives the shape of an array.\n",
    "- Use `array[x, y]` to select a single element from an array.\n",
    "- Array indices start at 0, not 1.\n",
    "- Use `low:high` to specify a slice that includes the indices from `low` to `high-1`.\n",
    "- All the indexing and slicing that works on arrays also works on strings.\n",
    "\n",
    "---\n",
    "\n",
    "Previous: [Python - Variables & Memory](02.%20Variables%20%26%20Memory.ipynb) | Top: [Python Overview](00.%20Python%20Overview.ipynb) | Next: [Python - Functions & Plotting](04.%Functions%20%26%Plotting.ipynb)"
   ]
  }
 ],
 "metadata": {
  "kernelspec": {
   "display_name": "Python 3",
   "language": "python",
   "name": "python3"
  },
  "language_info": {
   "codemirror_mode": {
    "name": "ipython",
    "version": 3
   },
   "file_extension": ".py",
   "mimetype": "text/x-python",
   "name": "python",
   "nbconvert_exporter": "python",
   "pygments_lexer": "ipython3",
   "version": "3.5.2"
  }
 },
 "nbformat": 4,
 "nbformat_minor": 0
}
