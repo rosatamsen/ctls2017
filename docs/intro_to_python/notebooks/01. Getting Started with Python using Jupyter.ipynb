{
 "cells": [
  {
   "cell_type": "markdown",
   "metadata": {},
   "source": [
    "# Accessing Jupyter Notebook\n",
    "\n",
    "## About Jupyter\n",
    "\n",
    "Project Jupyter evolved from the IPython Project to support interactive data science and\n",
    "scientific computing across all programming languages.\n",
    "\n",
    "## Several options for accessing a Jupyter Notebook\n",
    "\n",
    "---\n",
    "* The [Jupyter website](https://www.jupyter.org) allows you to download Jupyter Notebook and/or try it in your browser.\n",
    "\n",
    "* The [TACC Vis Portal](https://vis.tacc.utexas.edu) allows TACC users to run Jupyter\n",
    "through your browser on Stampede, Maverick, or Wrangler if the user has an allocation on that system.\n",
    "\n",
    "* The TACC [DesignSafe Portal](https://www.designsafe-ci.org) allows anyone with a TACC account to use Jupyter.  Instructions are available [here](intro_to_python_012_designsafe.md).\n",
    "\n",
    "* The Agave portal includes a Jupyter notebook.  Instructures for access via Agave Portal are [here](intro_to_python_013_agave.md).\n",
    "\n",
    "---\n",
    "\n",
    "Previous: [Python Overview](00.%20Python%20Overview.ipynb) | Next: [Python - Variables & Memory](02.%20Variables%20%26%20Memory.ipynb)"
   ]
  }
 ],
 "metadata": {
  "kernelspec": {
   "display_name": "Python 3",
   "language": "python",
   "name": "python3"
  },
  "language_info": {
   "codemirror_mode": {
    "name": "ipython",
    "version": 3
   },
   "file_extension": ".py",
   "mimetype": "text/x-python",
   "name": "python",
   "nbconvert_exporter": "python",
   "pygments_lexer": "ipython3",
   "version": "3.5.2"
  }
 },
 "nbformat": 4,
 "nbformat_minor": 0
}
