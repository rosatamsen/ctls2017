{
 "cells": [
  {
   "cell_type": "markdown",
   "metadata": {
    "deletable": true,
    "editable": true
   },
   "source": [
    "# Python for Research Computing\n",
    "\n",
    "### Course Objectives\n",
    "\n",
    "This set of lessons is designed to interactively introduce Python programming as a tool for research computing.\n",
    "\n",
    "This course is divided into a series of modules:\n",
    "\n",
    "1. [Getting Started with Python using Jupyter](01.%20Getting%20Started%20with%20Python%20using%20Jupyter.ipynb)\n",
    "2. [Variables & Memory](02.%20Variables%20%26%20Memory.ipynb)\n",
    "3. [Numpy & Arrays](03.%20Numpy%20%26%20Arrays.ipynb)\n",
    "4. [Plotting](intro_to_python_018_plotting.md)\n",
    "5. [Loops](intro_to_python_020_loops.md)\n",
    "6. [Lists](intro_to_python_030_lists.md)\n",
    "7. [Analyzing Multiple Files](intro_to_python_040_files.md)\n",
    "8. [Conditionals](intro_to_python_050_conditionals.md)\n",
    "9. [Defining Functions](intro_to_python_060_functions.md)\n",
    "10. [Handling Errors](intro_to_python_070_errors.md)\n",
    "11. [Exceptions](intro_to_python_071_exceptions.md)\n",
    "12. [Defensive Programming](intro_to_python_080_defensive.md)\n",
    "13. [Debugging](intro_to_python_090_debugging.md)\n",
    "14. [Command-Line](intro_to_python_100_cmdline.md)\n",
    "15. [Argparse](intro_to_python_101_argparse.md)\n",
    "16. [Multiprocessing](intro_to_python_110_multiprocessing.md)\n",
    "\n",
    "In addition, there are a series of hands-on topics.\n",
    "\n",
    "* [Hands-on Exercises](intro_to_python_500_exercises.md)\n",
    "\n",
    "---\n",
    "\n",
    "Home: [Course Overview](../../index.md)\n",
    "\n",
    "---\n",
    "\n",
    "### Instructional Objectives\n",
    "\n",
    "This course is taught as an interactive workshop. Attendees will actively engage in course discussion, and participate with working examples in a Linux terminal. As such, it is necessary that attendees have access to a command line interface for the course. It should be taught in a room equipped with computers and internet access. Rooms not equipped with computers will work if the attendees bring their own laptops and have internet access. Attendees should also have an existing allocation on a TACC resource. Attendees without an allocation can still participate in most components of the workshop if they have a Mac / Linux laptop, or a Windows laptop with Putty installed and access to a Linux server.\n",
    "\n",
    "2017 Texas Advanced Computing Center\n",
    "\n",
    "This course is derived in part with modification from resources Copyright © [Software Carpentry](http://software-carpentry.org/) under the [Creative Commons Attribution license](https://creativecommons.org/licenses/by/4.0/)"
   ]
  }
 ],
 "metadata": {
  "kernelspec": {
   "display_name": "Python 3",
   "language": "python",
   "name": "python3"
  },
  "language_info": {
   "codemirror_mode": {
    "name": "ipython",
    "version": 3
   },
   "file_extension": ".py",
   "mimetype": "text/x-python",
   "name": "python",
   "nbconvert_exporter": "python",
   "pygments_lexer": "ipython3",
   "version": "3.5.2"
  }
 },
 "nbformat": 4,
 "nbformat_minor": 0
}
